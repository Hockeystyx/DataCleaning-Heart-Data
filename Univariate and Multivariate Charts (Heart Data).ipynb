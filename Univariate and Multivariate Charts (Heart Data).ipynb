{
 "cells": [
  {
   "cell_type": "code",
   "execution_count": 2,
   "id": "acf808b5",
   "metadata": {},
   "outputs": [],
   "source": [
    "%matplotlib inline\n",
    "import matplotlib as plt\n",
    "import seaborn as sns\n",
    "import pandas as pd\n",
    "from statsmodels import api as sm\n",
    "import numpy as np\n",
    "\n",
    "df = pd.read_csv(\"Heart.csv\")"
   ]
  },
  {
   "cell_type": "code",
   "execution_count": 3,
   "id": "3fcc4199",
   "metadata": {
    "scrolled": true
   },
   "outputs": [
    {
     "data": {
      "text/html": [
       "<div>\n",
       "<style scoped>\n",
       "    .dataframe tbody tr th:only-of-type {\n",
       "        vertical-align: middle;\n",
       "    }\n",
       "\n",
       "    .dataframe tbody tr th {\n",
       "        vertical-align: top;\n",
       "    }\n",
       "\n",
       "    .dataframe thead th {\n",
       "        text-align: right;\n",
       "    }\n",
       "</style>\n",
       "<table border=\"1\" class=\"dataframe\">\n",
       "  <thead>\n",
       "    <tr style=\"text-align: right;\">\n",
       "      <th></th>\n",
       "      <th>age</th>\n",
       "      <th>sex</th>\n",
       "      <th>cp</th>\n",
       "      <th>trestbps</th>\n",
       "      <th>chol</th>\n",
       "      <th>fbs</th>\n",
       "      <th>restecg</th>\n",
       "      <th>thalach</th>\n",
       "      <th>exang</th>\n",
       "      <th>oldpeak</th>\n",
       "      <th>slope</th>\n",
       "      <th>ca</th>\n",
       "      <th>thal</th>\n",
       "      <th>target</th>\n",
       "    </tr>\n",
       "  </thead>\n",
       "  <tbody>\n",
       "    <tr>\n",
       "      <th>0</th>\n",
       "      <td>52</td>\n",
       "      <td>1</td>\n",
       "      <td>0</td>\n",
       "      <td>125</td>\n",
       "      <td>212</td>\n",
       "      <td>0</td>\n",
       "      <td>1</td>\n",
       "      <td>168</td>\n",
       "      <td>0</td>\n",
       "      <td>1.0</td>\n",
       "      <td>2</td>\n",
       "      <td>2</td>\n",
       "      <td>3</td>\n",
       "      <td>0</td>\n",
       "    </tr>\n",
       "    <tr>\n",
       "      <th>1</th>\n",
       "      <td>53</td>\n",
       "      <td>1</td>\n",
       "      <td>0</td>\n",
       "      <td>140</td>\n",
       "      <td>203</td>\n",
       "      <td>1</td>\n",
       "      <td>0</td>\n",
       "      <td>155</td>\n",
       "      <td>1</td>\n",
       "      <td>3.1</td>\n",
       "      <td>0</td>\n",
       "      <td>0</td>\n",
       "      <td>3</td>\n",
       "      <td>0</td>\n",
       "    </tr>\n",
       "    <tr>\n",
       "      <th>2</th>\n",
       "      <td>70</td>\n",
       "      <td>1</td>\n",
       "      <td>0</td>\n",
       "      <td>145</td>\n",
       "      <td>174</td>\n",
       "      <td>0</td>\n",
       "      <td>1</td>\n",
       "      <td>125</td>\n",
       "      <td>1</td>\n",
       "      <td>2.6</td>\n",
       "      <td>0</td>\n",
       "      <td>0</td>\n",
       "      <td>3</td>\n",
       "      <td>0</td>\n",
       "    </tr>\n",
       "    <tr>\n",
       "      <th>3</th>\n",
       "      <td>61</td>\n",
       "      <td>1</td>\n",
       "      <td>0</td>\n",
       "      <td>148</td>\n",
       "      <td>203</td>\n",
       "      <td>0</td>\n",
       "      <td>1</td>\n",
       "      <td>161</td>\n",
       "      <td>0</td>\n",
       "      <td>0.0</td>\n",
       "      <td>2</td>\n",
       "      <td>1</td>\n",
       "      <td>3</td>\n",
       "      <td>0</td>\n",
       "    </tr>\n",
       "    <tr>\n",
       "      <th>4</th>\n",
       "      <td>62</td>\n",
       "      <td>0</td>\n",
       "      <td>0</td>\n",
       "      <td>138</td>\n",
       "      <td>294</td>\n",
       "      <td>1</td>\n",
       "      <td>1</td>\n",
       "      <td>106</td>\n",
       "      <td>0</td>\n",
       "      <td>1.9</td>\n",
       "      <td>1</td>\n",
       "      <td>3</td>\n",
       "      <td>2</td>\n",
       "      <td>0</td>\n",
       "    </tr>\n",
       "  </tbody>\n",
       "</table>\n",
       "</div>"
      ],
      "text/plain": [
       "   age  sex  cp  trestbps  chol  fbs  restecg  thalach  exang  oldpeak  slope  \\\n",
       "0   52    1   0       125   212    0        1      168      0      1.0      2   \n",
       "1   53    1   0       140   203    1        0      155      1      3.1      0   \n",
       "2   70    1   0       145   174    0        1      125      1      2.6      0   \n",
       "3   61    1   0       148   203    0        1      161      0      0.0      2   \n",
       "4   62    0   0       138   294    1        1      106      0      1.9      1   \n",
       "\n",
       "   ca  thal  target  \n",
       "0   2     3       0  \n",
       "1   0     3       0  \n",
       "2   0     3       0  \n",
       "3   1     3       0  \n",
       "4   3     2       0  "
      ]
     },
     "execution_count": 3,
     "metadata": {},
     "output_type": "execute_result"
    }
   ],
   "source": [
    "df.head()"
   ]
  },
  {
   "cell_type": "code",
   "execution_count": 8,
   "id": "11989d25",
   "metadata": {},
   "outputs": [
    {
     "data": {
      "text/plain": [
       "Index(['age', 'sex', 'cp', 'trestbps', 'chol', 'fbs', 'restecg', 'thalach',\n",
       "       'exang', 'oldpeak', 'slope', 'ca', 'thal', 'target'],\n",
       "      dtype='object')"
      ]
     },
     "execution_count": 8,
     "metadata": {},
     "output_type": "execute_result"
    }
   ],
   "source": [
    "df.columns"
   ]
  },
  {
   "cell_type": "code",
   "execution_count": 9,
   "id": "d4431b50",
   "metadata": {},
   "outputs": [
    {
     "data": {
      "text/plain": [
       "Index(['Age', 'Sex', 'Cp', 'Trestbps', 'Chol', 'Fbs', 'Restecg', 'Thalach',\n",
       "       'Exang', 'Oldpeak', 'Slope', 'Ca', 'Thal', 'Target'],\n",
       "      dtype='object')"
      ]
     },
     "execution_count": 9,
     "metadata": {},
     "output_type": "execute_result"
    }
   ],
   "source": [
    "df.columns = df.columns.str.capitalize()\n",
    "df.columns"
   ]
  },
  {
   "cell_type": "code",
   "execution_count": 10,
   "id": "88b08881",
   "metadata": {},
   "outputs": [],
   "source": [
    "df = df.rename(columns={\"Cp\": \"ChestPain\", \"Trestbps\": \"RestBP\", \"Restecg\": \"RestECG\", \"Exang\":\"ExAng\"})"
   ]
  },
  {
   "cell_type": "code",
   "execution_count": 11,
   "id": "4b901d2d",
   "metadata": {},
   "outputs": [
    {
     "data": {
      "text/plain": [
       "(1025, 14)"
      ]
     },
     "execution_count": 11,
     "metadata": {},
     "output_type": "execute_result"
    }
   ],
   "source": [
    "df.shape"
   ]
  },
  {
   "cell_type": "code",
   "execution_count": 13,
   "id": "5640b2d3",
   "metadata": {},
   "outputs": [
    {
     "name": "stdout",
     "output_type": "stream",
     "text": [
      "Number of Duplicated Rows:  (723, 14)\n"
     ]
    }
   ],
   "source": [
    "duplicate_rows_df = df[df.duplicated()]\n",
    "print(\"Number of Duplicated Rows: \", duplicate_rows_df.shape)"
   ]
  },
  {
   "cell_type": "code",
   "execution_count": 14,
   "id": "7014b5fc",
   "metadata": {},
   "outputs": [
    {
     "data": {
      "text/plain": [
       "(302, 14)"
      ]
     },
     "execution_count": 14,
     "metadata": {},
     "output_type": "execute_result"
    }
   ],
   "source": [
    "df = df.drop_duplicates()\n",
    "df.shape"
   ]
  },
  {
   "cell_type": "code",
   "execution_count": 19,
   "id": "ce5cf1dd",
   "metadata": {},
   "outputs": [],
   "source": [
    "df = df.replace({\"Sex\" : {0 : \"Female\", 1 : \"Male\"}})"
   ]
  },
  {
   "cell_type": "code",
   "execution_count": 20,
   "id": "fde44409",
   "metadata": {},
   "outputs": [],
   "source": [
    "df = df.replace({\"Thal\" : {1: \"Normal\", 2: \"Fixed\", 3: \"Reversible\", 0: \"Missing\"}})"
   ]
  },
  {
   "cell_type": "code",
   "execution_count": 21,
   "id": "f623d131",
   "metadata": {},
   "outputs": [],
   "source": [
    "df = df.replace({\"ChestPain\" : {0 : \"asymptomatic\", 1 : \"nonanginal\", 2 : \"nontypical\", 3 : \"typical\"}})"
   ]
  },
  {
   "cell_type": "code",
   "execution_count": 22,
   "id": "82701815",
   "metadata": {},
   "outputs": [
    {
     "data": {
      "text/html": [
       "<div>\n",
       "<style scoped>\n",
       "    .dataframe tbody tr th:only-of-type {\n",
       "        vertical-align: middle;\n",
       "    }\n",
       "\n",
       "    .dataframe tbody tr th {\n",
       "        vertical-align: top;\n",
       "    }\n",
       "\n",
       "    .dataframe thead th {\n",
       "        text-align: right;\n",
       "    }\n",
       "</style>\n",
       "<table border=\"1\" class=\"dataframe\">\n",
       "  <thead>\n",
       "    <tr style=\"text-align: right;\">\n",
       "      <th></th>\n",
       "      <th>Age</th>\n",
       "      <th>Sex</th>\n",
       "      <th>ChestPain</th>\n",
       "      <th>RestBP</th>\n",
       "      <th>Chol</th>\n",
       "      <th>Fbs</th>\n",
       "      <th>RestECG</th>\n",
       "      <th>Thalach</th>\n",
       "      <th>ExAng</th>\n",
       "      <th>Oldpeak</th>\n",
       "      <th>Slope</th>\n",
       "      <th>Ca</th>\n",
       "      <th>Thal</th>\n",
       "      <th>Target</th>\n",
       "    </tr>\n",
       "  </thead>\n",
       "  <tbody>\n",
       "    <tr>\n",
       "      <th>0</th>\n",
       "      <td>52</td>\n",
       "      <td>Male</td>\n",
       "      <td>asymptomatic</td>\n",
       "      <td>125</td>\n",
       "      <td>212</td>\n",
       "      <td>0</td>\n",
       "      <td>1</td>\n",
       "      <td>168</td>\n",
       "      <td>0</td>\n",
       "      <td>1.0</td>\n",
       "      <td>2</td>\n",
       "      <td>2</td>\n",
       "      <td>Reversible</td>\n",
       "      <td>0</td>\n",
       "    </tr>\n",
       "    <tr>\n",
       "      <th>1</th>\n",
       "      <td>53</td>\n",
       "      <td>Male</td>\n",
       "      <td>asymptomatic</td>\n",
       "      <td>140</td>\n",
       "      <td>203</td>\n",
       "      <td>1</td>\n",
       "      <td>0</td>\n",
       "      <td>155</td>\n",
       "      <td>1</td>\n",
       "      <td>3.1</td>\n",
       "      <td>0</td>\n",
       "      <td>0</td>\n",
       "      <td>Reversible</td>\n",
       "      <td>0</td>\n",
       "    </tr>\n",
       "    <tr>\n",
       "      <th>2</th>\n",
       "      <td>70</td>\n",
       "      <td>Male</td>\n",
       "      <td>asymptomatic</td>\n",
       "      <td>145</td>\n",
       "      <td>174</td>\n",
       "      <td>0</td>\n",
       "      <td>1</td>\n",
       "      <td>125</td>\n",
       "      <td>1</td>\n",
       "      <td>2.6</td>\n",
       "      <td>0</td>\n",
       "      <td>0</td>\n",
       "      <td>Reversible</td>\n",
       "      <td>0</td>\n",
       "    </tr>\n",
       "    <tr>\n",
       "      <th>3</th>\n",
       "      <td>61</td>\n",
       "      <td>Male</td>\n",
       "      <td>asymptomatic</td>\n",
       "      <td>148</td>\n",
       "      <td>203</td>\n",
       "      <td>0</td>\n",
       "      <td>1</td>\n",
       "      <td>161</td>\n",
       "      <td>0</td>\n",
       "      <td>0.0</td>\n",
       "      <td>2</td>\n",
       "      <td>1</td>\n",
       "      <td>Reversible</td>\n",
       "      <td>0</td>\n",
       "    </tr>\n",
       "    <tr>\n",
       "      <th>4</th>\n",
       "      <td>62</td>\n",
       "      <td>Female</td>\n",
       "      <td>asymptomatic</td>\n",
       "      <td>138</td>\n",
       "      <td>294</td>\n",
       "      <td>1</td>\n",
       "      <td>1</td>\n",
       "      <td>106</td>\n",
       "      <td>0</td>\n",
       "      <td>1.9</td>\n",
       "      <td>1</td>\n",
       "      <td>3</td>\n",
       "      <td>Fixed</td>\n",
       "      <td>0</td>\n",
       "    </tr>\n",
       "  </tbody>\n",
       "</table>\n",
       "</div>"
      ],
      "text/plain": [
       "   Age     Sex     ChestPain  RestBP  Chol  Fbs  RestECG  Thalach  ExAng  \\\n",
       "0   52    Male  asymptomatic     125   212    0        1      168      0   \n",
       "1   53    Male  asymptomatic     140   203    1        0      155      1   \n",
       "2   70    Male  asymptomatic     145   174    0        1      125      1   \n",
       "3   61    Male  asymptomatic     148   203    0        1      161      0   \n",
       "4   62  Female  asymptomatic     138   294    1        1      106      0   \n",
       "\n",
       "   Oldpeak  Slope  Ca        Thal  Target  \n",
       "0      1.0      2   2  Reversible       0  \n",
       "1      3.1      0   0  Reversible       0  \n",
       "2      2.6      0   0  Reversible       0  \n",
       "3      0.0      2   1  Reversible       0  \n",
       "4      1.9      1   3       Fixed       0  "
      ]
     },
     "execution_count": 22,
     "metadata": {},
     "output_type": "execute_result"
    }
   ],
   "source": [
    "df.head()"
   ]
  },
  {
   "cell_type": "code",
   "execution_count": 23,
   "id": "29a9924b",
   "metadata": {},
   "outputs": [
    {
     "data": {
      "text/plain": [
       "Fixed         165\n",
       "Reversible    117\n",
       "Normal         18\n",
       "Missing         2\n",
       "Name: Thal, dtype: int64"
      ]
     },
     "execution_count": 23,
     "metadata": {},
     "output_type": "execute_result"
    }
   ],
   "source": [
    "x = df.Thal.value_counts()\n",
    "x\n",
    "# 'value_counts' is a function that counts the value of each category in a series\n",
    "# It is used here to break up the Thal values into different parts of data - but also to isolate the Missing data."
   ]
  },
  {
   "cell_type": "code",
   "execution_count": 24,
   "id": "b53670c8",
   "metadata": {},
   "outputs": [
    {
     "data": {
      "text/plain": [
       "Fixed         0.546358\n",
       "Reversible    0.387417\n",
       "Normal        0.059603\n",
       "Missing       0.006623\n",
       "Name: Thal, dtype: float64"
      ]
     },
     "execution_count": 24,
     "metadata": {},
     "output_type": "execute_result"
    }
   ],
   "source": [
    "x / x.sum()"
   ]
  },
  {
   "cell_type": "code",
   "execution_count": 25,
   "id": "fb138d07",
   "metadata": {},
   "outputs": [
    {
     "data": {
      "text/plain": [
       "Fixed         0.546358\n",
       "Reversible    0.387417\n",
       "Normal        0.059603\n",
       "Missing       0.006623\n",
       "Name: Thal, dtype: float64"
      ]
     },
     "execution_count": 25,
     "metadata": {},
     "output_type": "execute_result"
    }
   ],
   "source": [
    "df[\"Thal\"] = df.Thal.fillna(\"Missing\")\n",
    "x = df.Thal.value_counts()\n",
    "x / x.sum()"
   ]
  },
  {
   "cell_type": "code",
   "execution_count": 26,
   "id": "861d6f3c",
   "metadata": {},
   "outputs": [
    {
     "data": {
      "text/html": [
       "<div>\n",
       "<style scoped>\n",
       "    .dataframe tbody tr th:only-of-type {\n",
       "        vertical-align: middle;\n",
       "    }\n",
       "\n",
       "    .dataframe tbody tr th {\n",
       "        vertical-align: top;\n",
       "    }\n",
       "\n",
       "    .dataframe thead th {\n",
       "        text-align: right;\n",
       "    }\n",
       "</style>\n",
       "<table border=\"1\" class=\"dataframe\">\n",
       "  <thead>\n",
       "    <tr style=\"text-align: right;\">\n",
       "      <th></th>\n",
       "      <th>Age</th>\n",
       "      <th>RestBP</th>\n",
       "      <th>Chol</th>\n",
       "      <th>Fbs</th>\n",
       "      <th>RestECG</th>\n",
       "      <th>Thalach</th>\n",
       "      <th>ExAng</th>\n",
       "      <th>Oldpeak</th>\n",
       "      <th>Slope</th>\n",
       "      <th>Ca</th>\n",
       "      <th>Target</th>\n",
       "    </tr>\n",
       "  </thead>\n",
       "  <tbody>\n",
       "    <tr>\n",
       "      <th>count</th>\n",
       "      <td>302.00000</td>\n",
       "      <td>302.000000</td>\n",
       "      <td>302.000000</td>\n",
       "      <td>302.000000</td>\n",
       "      <td>302.000000</td>\n",
       "      <td>302.000000</td>\n",
       "      <td>302.000000</td>\n",
       "      <td>302.000000</td>\n",
       "      <td>302.000000</td>\n",
       "      <td>302.000000</td>\n",
       "      <td>302.000000</td>\n",
       "    </tr>\n",
       "    <tr>\n",
       "      <th>mean</th>\n",
       "      <td>54.42053</td>\n",
       "      <td>131.602649</td>\n",
       "      <td>246.500000</td>\n",
       "      <td>0.149007</td>\n",
       "      <td>0.526490</td>\n",
       "      <td>149.569536</td>\n",
       "      <td>0.327815</td>\n",
       "      <td>1.043046</td>\n",
       "      <td>1.397351</td>\n",
       "      <td>0.718543</td>\n",
       "      <td>0.543046</td>\n",
       "    </tr>\n",
       "    <tr>\n",
       "      <th>std</th>\n",
       "      <td>9.04797</td>\n",
       "      <td>17.563394</td>\n",
       "      <td>51.753489</td>\n",
       "      <td>0.356686</td>\n",
       "      <td>0.526027</td>\n",
       "      <td>22.903527</td>\n",
       "      <td>0.470196</td>\n",
       "      <td>1.161452</td>\n",
       "      <td>0.616274</td>\n",
       "      <td>1.006748</td>\n",
       "      <td>0.498970</td>\n",
       "    </tr>\n",
       "    <tr>\n",
       "      <th>min</th>\n",
       "      <td>29.00000</td>\n",
       "      <td>94.000000</td>\n",
       "      <td>126.000000</td>\n",
       "      <td>0.000000</td>\n",
       "      <td>0.000000</td>\n",
       "      <td>71.000000</td>\n",
       "      <td>0.000000</td>\n",
       "      <td>0.000000</td>\n",
       "      <td>0.000000</td>\n",
       "      <td>0.000000</td>\n",
       "      <td>0.000000</td>\n",
       "    </tr>\n",
       "    <tr>\n",
       "      <th>25%</th>\n",
       "      <td>48.00000</td>\n",
       "      <td>120.000000</td>\n",
       "      <td>211.000000</td>\n",
       "      <td>0.000000</td>\n",
       "      <td>0.000000</td>\n",
       "      <td>133.250000</td>\n",
       "      <td>0.000000</td>\n",
       "      <td>0.000000</td>\n",
       "      <td>1.000000</td>\n",
       "      <td>0.000000</td>\n",
       "      <td>0.000000</td>\n",
       "    </tr>\n",
       "    <tr>\n",
       "      <th>50%</th>\n",
       "      <td>55.50000</td>\n",
       "      <td>130.000000</td>\n",
       "      <td>240.500000</td>\n",
       "      <td>0.000000</td>\n",
       "      <td>1.000000</td>\n",
       "      <td>152.500000</td>\n",
       "      <td>0.000000</td>\n",
       "      <td>0.800000</td>\n",
       "      <td>1.000000</td>\n",
       "      <td>0.000000</td>\n",
       "      <td>1.000000</td>\n",
       "    </tr>\n",
       "    <tr>\n",
       "      <th>75%</th>\n",
       "      <td>61.00000</td>\n",
       "      <td>140.000000</td>\n",
       "      <td>274.750000</td>\n",
       "      <td>0.000000</td>\n",
       "      <td>1.000000</td>\n",
       "      <td>166.000000</td>\n",
       "      <td>1.000000</td>\n",
       "      <td>1.600000</td>\n",
       "      <td>2.000000</td>\n",
       "      <td>1.000000</td>\n",
       "      <td>1.000000</td>\n",
       "    </tr>\n",
       "    <tr>\n",
       "      <th>max</th>\n",
       "      <td>77.00000</td>\n",
       "      <td>200.000000</td>\n",
       "      <td>564.000000</td>\n",
       "      <td>1.000000</td>\n",
       "      <td>2.000000</td>\n",
       "      <td>202.000000</td>\n",
       "      <td>1.000000</td>\n",
       "      <td>6.200000</td>\n",
       "      <td>2.000000</td>\n",
       "      <td>4.000000</td>\n",
       "      <td>1.000000</td>\n",
       "    </tr>\n",
       "  </tbody>\n",
       "</table>\n",
       "</div>"
      ],
      "text/plain": [
       "             Age      RestBP        Chol         Fbs     RestECG     Thalach  \\\n",
       "count  302.00000  302.000000  302.000000  302.000000  302.000000  302.000000   \n",
       "mean    54.42053  131.602649  246.500000    0.149007    0.526490  149.569536   \n",
       "std      9.04797   17.563394   51.753489    0.356686    0.526027   22.903527   \n",
       "min     29.00000   94.000000  126.000000    0.000000    0.000000   71.000000   \n",
       "25%     48.00000  120.000000  211.000000    0.000000    0.000000  133.250000   \n",
       "50%     55.50000  130.000000  240.500000    0.000000    1.000000  152.500000   \n",
       "75%     61.00000  140.000000  274.750000    0.000000    1.000000  166.000000   \n",
       "max     77.00000  200.000000  564.000000    1.000000    2.000000  202.000000   \n",
       "\n",
       "            ExAng     Oldpeak       Slope          Ca      Target  \n",
       "count  302.000000  302.000000  302.000000  302.000000  302.000000  \n",
       "mean     0.327815    1.043046    1.397351    0.718543    0.543046  \n",
       "std      0.470196    1.161452    0.616274    1.006748    0.498970  \n",
       "min      0.000000    0.000000    0.000000    0.000000    0.000000  \n",
       "25%      0.000000    0.000000    1.000000    0.000000    0.000000  \n",
       "50%      0.000000    0.800000    1.000000    0.000000    1.000000  \n",
       "75%      1.000000    1.600000    2.000000    1.000000    1.000000  \n",
       "max      1.000000    6.200000    2.000000    4.000000    1.000000  "
      ]
     },
     "execution_count": 26,
     "metadata": {},
     "output_type": "execute_result"
    }
   ],
   "source": [
    "df.describe()"
   ]
  },
  {
   "cell_type": "code",
   "execution_count": 27,
   "id": "9799ad9f",
   "metadata": {},
   "outputs": [
    {
     "name": "stderr",
     "output_type": "stream",
     "text": [
      "C:\\Users\\angel\\anaconda3\\lib\\site-packages\\seaborn\\distributions.py:2619: FutureWarning: `distplot` is a deprecated function and will be removed in a future version. Please adapt your code to use either `displot` (a figure-level function with similar flexibility) or `histplot` (an axes-level function for histograms).\n",
      "  warnings.warn(msg, FutureWarning)\n"
     ]
    },
    {
     "data": {
      "text/plain": [
       "<AxesSubplot:xlabel='Chol', ylabel='Density'>"
      ]
     },
     "execution_count": 27,
     "metadata": {},
     "output_type": "execute_result"
    },
    {
     "data": {
      "image/png": "[encoded data removed]",
      "text/plain": [
       "<Figure size 640x480 with 1 Axes>"
      ]
     },
     "metadata": {},
     "output_type": "display_data"
    }
   ],
   "source": [
    "sns.distplot(df.Chol.dropna())"
   ]
  },
  {
   "cell_type": "code",
   "execution_count": 29,
   "id": "24059f50",
   "metadata": {},
   "outputs": [],
   "source": [
    "mean_rbp = df.RestBP.dropna().mean()"
   ]
  },
  {
   "cell_type": "code",
   "execution_count": 30,
   "id": "fbd7d232",
   "metadata": {},
   "outputs": [
    {
     "data": {
      "text/plain": [
       "0.4337748344370861"
      ]
     },
     "execution_count": 30,
     "metadata": {},
     "output_type": "execute_result"
    }
   ],
   "source": [
    "len(df[df[\"RestBP\"] > mean_rbp])/len(df)"
   ]
  },
  {
   "cell_type": "code",
   "execution_count": 31,
   "id": "1c481e7e",
   "metadata": {},
   "outputs": [],
   "source": [
    "df[\"agegrp\"]=pd.cut(df.Age, [29,40,50,60,70,80])"
   ]
  },
  {
   "cell_type": "code",
   "execution_count": 39,
   "id": "c4d928d7",
   "metadata": {},
   "outputs": [
    {
     "data": {
      "text/plain": [
       "<AxesSubplot:xlabel='agegrp', ylabel='Chol'>"
      ]
     },
     "execution_count": 39,
     "metadata": {},
     "output_type": "execute_result"
    },
    {
     "data": {
      "image/png": "[encoded data removed]",
      "text/plain": [
       "<Figure size 640x480 with 1 Axes>"
      ]
     },
     "metadata": {},
     "output_type": "display_data"
    }
   ],
   "source": [
    "plt.figure.Figure(figsize=(12,5))\n",
    "sns.boxplot(x = \"agegrp\", y = \"Chol\", data=df)"
   ]
  },
  {
   "cell_type": "code",
   "execution_count": 40,
   "id": "8dd4b1b6",
   "metadata": {},
   "outputs": [
    {
     "data": {
      "text/plain": [
       "<AxesSubplot:xlabel='agegrp', ylabel='Chol'>"
      ]
     },
     "execution_count": 40,
     "metadata": {},
     "output_type": "execute_result"
    },
    {
     "data": {
      "image/png": "[encoded data removed]",
      "text/plain": [
       "<Figure size 640x480 with 1 Axes>"
      ]
     },
     "metadata": {},
     "output_type": "display_data"
    }
   ],
   "source": [
    "df[\"Sex1\"] = df.Sex.replace({1: \"Male\", 0: \"Female\"})\n",
    "plt.figure.Figure(figsize=(12, 4))\n",
    "sns.boxplot(x = \"agegrp\", y = \"Chol\", hue = \"Sex1\", data=df)"
   ]
  },
  {
   "cell_type": "code",
   "execution_count": 41,
   "id": "a24b7256",
   "metadata": {},
   "outputs": [
    {
     "data": {
      "text/plain": [
       "<AxesSubplot:xlabel='Sex1', ylabel='Age'>"
      ]
     },
     "execution_count": 41,
     "metadata": {},
     "output_type": "execute_result"
    },
    {
     "data": {
      "image/png": "[encoded data removed]",
      "text/plain": [
       "<Figure size 640x480 with 1 Axes>"
      ]
     },
     "metadata": {},
     "output_type": "display_data"
    }
   ],
   "source": [
    "sns.boxplot(x = \"Sex1\", y = \"Age\", data=df)"
   ]
  },
  {
   "cell_type": "code",
   "execution_count": 42,
   "id": "7eafa2d1",
   "metadata": {},
   "outputs": [
    {
     "data": {
      "text/html": [
       "<div>\n",
       "<style scoped>\n",
       "    .dataframe tbody tr th:only-of-type {\n",
       "        vertical-align: middle;\n",
       "    }\n",
       "\n",
       "    .dataframe tbody tr th {\n",
       "        vertical-align: top;\n",
       "    }\n",
       "\n",
       "    .dataframe thead th {\n",
       "        text-align: right;\n",
       "    }\n",
       "</style>\n",
       "<table border=\"1\" class=\"dataframe\">\n",
       "  <thead>\n",
       "    <tr style=\"text-align: right;\">\n",
       "      <th>ChestPain</th>\n",
       "      <th>asymptomatic</th>\n",
       "      <th>nonanginal</th>\n",
       "      <th>nontypical</th>\n",
       "      <th>typical</th>\n",
       "    </tr>\n",
       "    <tr>\n",
       "      <th>agegrp</th>\n",
       "      <th></th>\n",
       "      <th></th>\n",
       "      <th></th>\n",
       "      <th></th>\n",
       "    </tr>\n",
       "  </thead>\n",
       "  <tbody>\n",
       "    <tr>\n",
       "      <th>(29, 40]</th>\n",
       "      <td>6.0</td>\n",
       "      <td>2.0</td>\n",
       "      <td>6.0</td>\n",
       "      <td>3.0</td>\n",
       "    </tr>\n",
       "    <tr>\n",
       "      <th>(40, 50]</th>\n",
       "      <td>29.0</td>\n",
       "      <td>20.0</td>\n",
       "      <td>25.0</td>\n",
       "      <td>2.0</td>\n",
       "    </tr>\n",
       "    <tr>\n",
       "      <th>(50, 60]</th>\n",
       "      <td>65.0</td>\n",
       "      <td>20.0</td>\n",
       "      <td>34.0</td>\n",
       "      <td>10.0</td>\n",
       "    </tr>\n",
       "    <tr>\n",
       "      <th>(60, 70]</th>\n",
       "      <td>41.0</td>\n",
       "      <td>5.0</td>\n",
       "      <td>19.0</td>\n",
       "      <td>8.0</td>\n",
       "    </tr>\n",
       "    <tr>\n",
       "      <th>(70, 80]</th>\n",
       "      <td>2.0</td>\n",
       "      <td>2.0</td>\n",
       "      <td>2.0</td>\n",
       "      <td>NaN</td>\n",
       "    </tr>\n",
       "  </tbody>\n",
       "</table>\n",
       "</div>"
      ],
      "text/plain": [
       "ChestPain  asymptomatic  nonanginal  nontypical  typical\n",
       "agegrp                                                  \n",
       "(29, 40]            6.0         2.0         6.0      3.0\n",
       "(40, 50]           29.0        20.0        25.0      2.0\n",
       "(50, 60]           65.0        20.0        34.0     10.0\n",
       "(60, 70]           41.0         5.0        19.0      8.0\n",
       "(70, 80]            2.0         2.0         2.0      NaN"
      ]
     },
     "execution_count": 42,
     "metadata": {},
     "output_type": "execute_result"
    }
   ],
   "source": [
    "df.groupby(\"agegrp\")[\"ChestPain\"].value_counts().unstack()"
   ]
  },
  {
   "cell_type": "code",
   "execution_count": 45,
   "id": "a6c2924d",
   "metadata": {},
   "outputs": [],
   "source": [
    "dx = df.dropna().groupby([\"agegrp\", \"Sex1\"])[\"ChestPain\"].value_counts().unstack()"
   ]
  },
  {
   "cell_type": "code",
   "execution_count": 46,
   "id": "b466b977",
   "metadata": {},
   "outputs": [],
   "source": [
    "dx = dx.apply(lambda x: x/x.sum(), axis=1)"
   ]
  },
  {
   "cell_type": "code",
   "execution_count": 47,
   "id": "a493e5da",
   "metadata": {},
   "outputs": [],
   "source": [
    "# Question 1 - Part B here:"
   ]
  },
  {
   "cell_type": "code",
   "execution_count": 48,
   "id": "9ef97447",
   "metadata": {},
   "outputs": [
    {
     "data": {
      "text/plain": [
       "0    203\n",
       "1     99\n",
       "Name: ExAng, dtype: int64"
      ]
     },
     "execution_count": 48,
     "metadata": {},
     "output_type": "execute_result"
    }
   ],
   "source": [
    "y = df.ExAng.value_counts()\n",
    "y"
   ]
  },
  {
   "cell_type": "code",
   "execution_count": 49,
   "id": "bcb36435",
   "metadata": {},
   "outputs": [
    {
     "data": {
      "text/plain": [
       "0    0.672185\n",
       "1    0.327815\n",
       "Name: ExAng, dtype: float64"
      ]
     },
     "execution_count": 49,
     "metadata": {},
     "output_type": "execute_result"
    }
   ],
   "source": [
    "y / y.sum()"
   ]
  },
  {
   "cell_type": "code",
   "execution_count": 50,
   "id": "f1dd6e59",
   "metadata": {},
   "outputs": [
    {
     "data": {
      "text/plain": [
       "0    0.672185\n",
       "1    0.327815\n",
       "Name: ExAng, dtype: float64"
      ]
     },
     "execution_count": 50,
     "metadata": {},
     "output_type": "execute_result"
    }
   ],
   "source": [
    "df[\"ExAng\"] = df.ExAng.fillna(\"Missing\")\n",
    "y = df.ExAng.value_counts()\n",
    "y / y.sum()"
   ]
  },
  {
   "cell_type": "code",
   "execution_count": 51,
   "id": "947600f2",
   "metadata": {},
   "outputs": [],
   "source": [
    "# Question 1 - Part C here:"
   ]
  },
  {
   "cell_type": "code",
   "execution_count": 52,
   "id": "23fe5034",
   "metadata": {},
   "outputs": [
    {
     "data": {
      "text/plain": [
       "0    175\n",
       "1     65\n",
       "2     38\n",
       "3     20\n",
       "4      4\n",
       "Name: Ca, dtype: int64"
      ]
     },
     "execution_count": 52,
     "metadata": {},
     "output_type": "execute_result"
    }
   ],
   "source": [
    "z = df.Ca.value_counts()\n",
    "z"
   ]
  },
  {
   "cell_type": "code",
   "execution_count": 53,
   "id": "d1d2e8b8",
   "metadata": {},
   "outputs": [
    {
     "data": {
      "text/plain": [
       "0    0.579470\n",
       "1    0.215232\n",
       "2    0.125828\n",
       "3    0.066225\n",
       "4    0.013245\n",
       "Name: Ca, dtype: float64"
      ]
     },
     "execution_count": 53,
     "metadata": {},
     "output_type": "execute_result"
    }
   ],
   "source": [
    "z / z.sum()"
   ]
  },
  {
   "cell_type": "code",
   "execution_count": 54,
   "id": "03ff504a",
   "metadata": {},
   "outputs": [
    {
     "data": {
      "text/plain": [
       "0    0.579470\n",
       "1    0.215232\n",
       "2    0.125828\n",
       "3    0.066225\n",
       "4    0.013245\n",
       "Name: Ca, dtype: float64"
      ]
     },
     "execution_count": 54,
     "metadata": {},
     "output_type": "execute_result"
    }
   ],
   "source": [
    "df[\"Ca\"] = df.Ca.fillna(\"Missing\")\n",
    "z = df.Ca.value_counts()\n",
    "z / z.sum()"
   ]
  },
  {
   "cell_type": "code",
   "execution_count": 55,
   "id": "96e72eb1",
   "metadata": {},
   "outputs": [],
   "source": [
    "# Question 2 - Part A here:"
   ]
  },
  {
   "cell_type": "code",
   "execution_count": 56,
   "id": "fbeb0675",
   "metadata": {},
   "outputs": [
    {
     "data": {
      "text/plain": [
       "count    302.000000\n",
       "mean     246.500000\n",
       "std       51.753489\n",
       "min      126.000000\n",
       "25%      211.000000\n",
       "50%      240.500000\n",
       "75%      274.750000\n",
       "max      564.000000\n",
       "Name: Chol, dtype: float64"
      ]
     },
     "execution_count": 56,
     "metadata": {},
     "output_type": "execute_result"
    }
   ],
   "source": [
    "df[\"Chol\"].describe()"
   ]
  },
  {
   "cell_type": "code",
   "execution_count": 57,
   "id": "a3cebca6",
   "metadata": {},
   "outputs": [],
   "source": [
    "# Question 3 - Part A here:"
   ]
  },
  {
   "cell_type": "code",
   "execution_count": 58,
   "id": "f958a031",
   "metadata": {},
   "outputs": [
    {
     "data": {
      "text/plain": [
       "<seaborn.axisgrid.FacetGrid at 0x27c5f72a190>"
      ]
     },
     "execution_count": 58,
     "metadata": {},
     "output_type": "execute_result"
    },
    {
     "data": {
      "image/png": "[encoded data removed]",
      "text/plain": [
       "<Figure size 500x500 with 1 Axes>"
      ]
     },
     "metadata": {},
     "output_type": "display_data"
    }
   ],
   "source": [
    "sns.displot(df.Chol.dropna())"
   ]
  },
  {
   "cell_type": "code",
   "execution_count": 59,
   "id": "e2aa95c4",
   "metadata": {},
   "outputs": [
    {
     "data": {
      "text/plain": [
       "<AxesSubplot:xlabel='Chol', ylabel='Count'>"
      ]
     },
     "execution_count": 59,
     "metadata": {},
     "output_type": "execute_result"
    },
    {
     "data": {
      "image/png": "[encoded data removed]",
      "text/plain": [
       "<Figure size 640x480 with 1 Axes>"
      ]
     },
     "metadata": {},
     "output_type": "display_data"
    }
   ],
   "source": [
    "sns.histplot(df.Chol.dropna())"
   ]
  },
  {
   "cell_type": "code",
   "execution_count": 60,
   "id": "f13ad73e",
   "metadata": {},
   "outputs": [],
   "source": [
    "# Do I see any outliers? yes."
   ]
  },
  {
   "cell_type": "code",
   "execution_count": 61,
   "id": "302050c8",
   "metadata": {},
   "outputs": [
    {
     "data": {
      "text/plain": [
       "<AxesSubplot:xlabel='Chol', ylabel='Count'>"
      ]
     },
     "execution_count": 61,
     "metadata": {},
     "output_type": "execute_result"
    },
    {
     "data": {
      "image/png": "[encoded data removed]",
      "text/plain": [
       "<Figure size 640x480 with 1 Axes>"
      ]
     },
     "metadata": {},
     "output_type": "display_data"
    }
   ],
   "source": [
    "sns.histplot(data=df, x=\"Chol\", kde=True)"
   ]
  },
  {
   "cell_type": "code",
   "execution_count": 62,
   "id": "53bbe825",
   "metadata": {},
   "outputs": [],
   "source": [
    "# Question 3 - Part B here:"
   ]
  },
  {
   "cell_type": "code",
   "execution_count": 63,
   "id": "ae2f4622",
   "metadata": {},
   "outputs": [
    {
     "data": {
      "text/plain": [
       "count    302.000000\n",
       "mean     131.602649\n",
       "std       17.563394\n",
       "min       94.000000\n",
       "25%      120.000000\n",
       "50%      130.000000\n",
       "75%      140.000000\n",
       "max      200.000000\n",
       "Name: RestBP, dtype: float64"
      ]
     },
     "execution_count": 63,
     "metadata": {},
     "output_type": "execute_result"
    }
   ],
   "source": [
    "df[\"RestBP\"].describe()"
   ]
  },
  {
   "cell_type": "code",
   "execution_count": 64,
   "id": "fb24a989",
   "metadata": {},
   "outputs": [
    {
     "data": {
      "text/plain": [
       "<seaborn.axisgrid.FacetGrid at 0x27c5f857310>"
      ]
     },
     "execution_count": 64,
     "metadata": {},
     "output_type": "execute_result"
    },
    {
     "data": {
      "image/png": "[encoded data removed]",
      "text/plain": [
       "<Figure size 500x500 with 1 Axes>"
      ]
     },
     "metadata": {},
     "output_type": "display_data"
    }
   ],
   "source": [
    "sns.displot(df.RestBP.dropna())"
   ]
  },
  {
   "cell_type": "code",
   "execution_count": 65,
   "id": "ae9e1458",
   "metadata": {},
   "outputs": [],
   "source": [
    "# Yes, there are outliers"
   ]
  },
  {
   "cell_type": "code",
   "execution_count": 70,
   "id": "9886ef12",
   "metadata": {},
   "outputs": [
    {
     "data": {
      "text/plain": [
       "<seaborn.axisgrid.FacetGrid at 0x27c5f7db940>"
      ]
     },
     "execution_count": 70,
     "metadata": {},
     "output_type": "execute_result"
    },
    {
     "data": {
      "image/png": "[encoded data removed]",
      "text/plain": [
       "<Figure size 500x500 with 1 Axes>"
      ]
     },
     "metadata": {},
     "output_type": "display_data"
    }
   ],
   "source": [
    "sns.displot(df.Ca.dropna())"
   ]
  },
  {
   "cell_type": "code",
   "execution_count": 71,
   "id": "c5a2132d",
   "metadata": {},
   "outputs": [
    {
     "name": "stdout",
     "output_type": "stream",
     "text": [
      "131.60264900662253\n"
     ]
    }
   ],
   "source": [
    "mean_rbp = df.RestBP.dropna().mean()\n",
    "print(mean_rbp)"
   ]
  },
  {
   "cell_type": "code",
   "execution_count": 73,
   "id": "0362a16b",
   "metadata": {},
   "outputs": [],
   "source": [
    "# Yes, the .dropna does need to be present, or you get an error message that the Series Object is not callable."
   ]
  },
  {
   "cell_type": "code",
   "execution_count": 74,
   "id": "e957eb02",
   "metadata": {},
   "outputs": [
    {
     "data": {
      "text/html": [
       "<div>\n",
       "<style scoped>\n",
       "    .dataframe tbody tr th:only-of-type {\n",
       "        vertical-align: middle;\n",
       "    }\n",
       "\n",
       "    .dataframe tbody tr th {\n",
       "        vertical-align: top;\n",
       "    }\n",
       "\n",
       "    .dataframe thead th {\n",
       "        text-align: right;\n",
       "    }\n",
       "</style>\n",
       "<table border=\"1\" class=\"dataframe\">\n",
       "  <thead>\n",
       "    <tr style=\"text-align: right;\">\n",
       "      <th></th>\n",
       "      <th>Age</th>\n",
       "      <th>RestBP</th>\n",
       "      <th>Chol</th>\n",
       "      <th>Fbs</th>\n",
       "      <th>RestECG</th>\n",
       "      <th>Thalach</th>\n",
       "      <th>ExAng</th>\n",
       "      <th>Oldpeak</th>\n",
       "      <th>Slope</th>\n",
       "      <th>Ca</th>\n",
       "      <th>Target</th>\n",
       "    </tr>\n",
       "  </thead>\n",
       "  <tbody>\n",
       "    <tr>\n",
       "      <th>count</th>\n",
       "      <td>302.00000</td>\n",
       "      <td>302.000000</td>\n",
       "      <td>302.000000</td>\n",
       "      <td>302.000000</td>\n",
       "      <td>302.000000</td>\n",
       "      <td>302.000000</td>\n",
       "      <td>302.000000</td>\n",
       "      <td>302.000000</td>\n",
       "      <td>302.000000</td>\n",
       "      <td>302.000000</td>\n",
       "      <td>302.000000</td>\n",
       "    </tr>\n",
       "    <tr>\n",
       "      <th>mean</th>\n",
       "      <td>54.42053</td>\n",
       "      <td>131.602649</td>\n",
       "      <td>246.500000</td>\n",
       "      <td>0.149007</td>\n",
       "      <td>0.526490</td>\n",
       "      <td>149.569536</td>\n",
       "      <td>0.327815</td>\n",
       "      <td>1.043046</td>\n",
       "      <td>1.397351</td>\n",
       "      <td>0.718543</td>\n",
       "      <td>0.543046</td>\n",
       "    </tr>\n",
       "    <tr>\n",
       "      <th>std</th>\n",
       "      <td>9.04797</td>\n",
       "      <td>17.563394</td>\n",
       "      <td>51.753489</td>\n",
       "      <td>0.356686</td>\n",
       "      <td>0.526027</td>\n",
       "      <td>22.903527</td>\n",
       "      <td>0.470196</td>\n",
       "      <td>1.161452</td>\n",
       "      <td>0.616274</td>\n",
       "      <td>1.006748</td>\n",
       "      <td>0.498970</td>\n",
       "    </tr>\n",
       "    <tr>\n",
       "      <th>min</th>\n",
       "      <td>29.00000</td>\n",
       "      <td>94.000000</td>\n",
       "      <td>126.000000</td>\n",
       "      <td>0.000000</td>\n",
       "      <td>0.000000</td>\n",
       "      <td>71.000000</td>\n",
       "      <td>0.000000</td>\n",
       "      <td>0.000000</td>\n",
       "      <td>0.000000</td>\n",
       "      <td>0.000000</td>\n",
       "      <td>0.000000</td>\n",
       "    </tr>\n",
       "    <tr>\n",
       "      <th>25%</th>\n",
       "      <td>48.00000</td>\n",
       "      <td>120.000000</td>\n",
       "      <td>211.000000</td>\n",
       "      <td>0.000000</td>\n",
       "      <td>0.000000</td>\n",
       "      <td>133.250000</td>\n",
       "      <td>0.000000</td>\n",
       "      <td>0.000000</td>\n",
       "      <td>1.000000</td>\n",
       "      <td>0.000000</td>\n",
       "      <td>0.000000</td>\n",
       "    </tr>\n",
       "    <tr>\n",
       "      <th>50%</th>\n",
       "      <td>55.50000</td>\n",
       "      <td>130.000000</td>\n",
       "      <td>240.500000</td>\n",
       "      <td>0.000000</td>\n",
       "      <td>1.000000</td>\n",
       "      <td>152.500000</td>\n",
       "      <td>0.000000</td>\n",
       "      <td>0.800000</td>\n",
       "      <td>1.000000</td>\n",
       "      <td>0.000000</td>\n",
       "      <td>1.000000</td>\n",
       "    </tr>\n",
       "    <tr>\n",
       "      <th>75%</th>\n",
       "      <td>61.00000</td>\n",
       "      <td>140.000000</td>\n",
       "      <td>274.750000</td>\n",
       "      <td>0.000000</td>\n",
       "      <td>1.000000</td>\n",
       "      <td>166.000000</td>\n",
       "      <td>1.000000</td>\n",
       "      <td>1.600000</td>\n",
       "      <td>2.000000</td>\n",
       "      <td>1.000000</td>\n",
       "      <td>1.000000</td>\n",
       "    </tr>\n",
       "    <tr>\n",
       "      <th>max</th>\n",
       "      <td>77.00000</td>\n",
       "      <td>200.000000</td>\n",
       "      <td>564.000000</td>\n",
       "      <td>1.000000</td>\n",
       "      <td>2.000000</td>\n",
       "      <td>202.000000</td>\n",
       "      <td>1.000000</td>\n",
       "      <td>6.200000</td>\n",
       "      <td>2.000000</td>\n",
       "      <td>4.000000</td>\n",
       "      <td>1.000000</td>\n",
       "    </tr>\n",
       "  </tbody>\n",
       "</table>\n",
       "</div>"
      ],
      "text/plain": [
       "             Age      RestBP        Chol         Fbs     RestECG     Thalach  \\\n",
       "count  302.00000  302.000000  302.000000  302.000000  302.000000  302.000000   \n",
       "mean    54.42053  131.602649  246.500000    0.149007    0.526490  149.569536   \n",
       "std      9.04797   17.563394   51.753489    0.356686    0.526027   22.903527   \n",
       "min     29.00000   94.000000  126.000000    0.000000    0.000000   71.000000   \n",
       "25%     48.00000  120.000000  211.000000    0.000000    0.000000  133.250000   \n",
       "50%     55.50000  130.000000  240.500000    0.000000    1.000000  152.500000   \n",
       "75%     61.00000  140.000000  274.750000    0.000000    1.000000  166.000000   \n",
       "max     77.00000  200.000000  564.000000    1.000000    2.000000  202.000000   \n",
       "\n",
       "            ExAng     Oldpeak       Slope          Ca      Target  \n",
       "count  302.000000  302.000000  302.000000  302.000000  302.000000  \n",
       "mean     0.327815    1.043046    1.397351    0.718543    0.543046  \n",
       "std      0.470196    1.161452    0.616274    1.006748    0.498970  \n",
       "min      0.000000    0.000000    0.000000    0.000000    0.000000  \n",
       "25%      0.000000    0.000000    1.000000    0.000000    0.000000  \n",
       "50%      0.000000    0.800000    1.000000    0.000000    1.000000  \n",
       "75%      1.000000    1.600000    2.000000    1.000000    1.000000  \n",
       "max      1.000000    6.200000    2.000000    4.000000    1.000000  "
      ]
     },
     "execution_count": 74,
     "metadata": {},
     "output_type": "execute_result"
    }
   ],
   "source": [
    "df.describe()"
   ]
  },
  {
   "cell_type": "code",
   "execution_count": 83,
   "id": "da8fb577",
   "metadata": {},
   "outputs": [
    {
     "name": "stdout",
     "output_type": "stream",
     "text": [
      "RestBP           94   100  101  102  104  105  106  108  110  112  ...  160  \\\n",
      "agegrp   Sex1                                                      ...        \n",
      "(29, 40] Female  1.0  NaN  NaN  NaN  NaN  NaN  NaN  NaN  NaN  NaN  ...  NaN   \n",
      "         Male    NaN  NaN  NaN  NaN  NaN  NaN  NaN  NaN  1.0  NaN  ...  NaN   \n",
      "(40, 50] Female  NaN  NaN  NaN  1.0  NaN  2.0  NaN  1.0  1.0  2.0  ...  NaN   \n",
      "         Male    NaN  NaN  1.0  NaN  1.0  NaN  NaN  1.0  7.0  3.0  ...  NaN   \n",
      "(50, 60] Female  NaN  1.0  NaN  1.0  NaN  NaN  NaN  1.0  1.0  NaN  ...  1.0   \n",
      "         Male    1.0  2.0  NaN  NaN  NaN  1.0  NaN  2.0  6.0  2.0  ...  2.0   \n",
      "(60, 70] Female  NaN  NaN  NaN  NaN  NaN  NaN  1.0  1.0  NaN  NaN  ...  2.0   \n",
      "         Male    NaN  1.0  NaN  NaN  NaN  NaN  NaN  NaN  2.0  1.0  ...  5.0   \n",
      "(70, 80] Female  NaN  NaN  NaN  NaN  NaN  NaN  NaN  NaN  1.0  1.0  ...  1.0   \n",
      "         Male    NaN  NaN  NaN  NaN  NaN  NaN  NaN  NaN  NaN  NaN  ...  NaN   \n",
      "\n",
      "RestBP           164  165  170  172  174  178  180  192  200  \n",
      "agegrp   Sex1                                                 \n",
      "(29, 40] Female  NaN  NaN  NaN  NaN  NaN  NaN  NaN  NaN  NaN  \n",
      "         Male    NaN  NaN  NaN  NaN  NaN  NaN  NaN  NaN  NaN  \n",
      "(40, 50] Female  NaN  NaN  NaN  NaN  NaN  NaN  NaN  NaN  NaN  \n",
      "         Male    NaN  NaN  NaN  NaN  NaN  NaN  NaN  NaN  NaN  \n",
      "(50, 60] Female  NaN  NaN  1.0  NaN  1.0  NaN  1.0  NaN  1.0  \n",
      "         Male    1.0  1.0  2.0  1.0  NaN  1.0  NaN  1.0  NaN  \n",
      "(60, 70] Female  NaN  NaN  NaN  NaN  NaN  1.0  1.0  NaN  NaN  \n",
      "         Male    NaN  NaN  1.0  NaN  NaN  NaN  1.0  NaN  NaN  \n",
      "(70, 80] Female  NaN  NaN  NaN  NaN  NaN  NaN  NaN  NaN  NaN  \n",
      "         Male    NaN  NaN  NaN  NaN  NaN  NaN  NaN  NaN  NaN  \n",
      "\n",
      "[10 rows x 49 columns]\n"
     ]
    }
   ],
   "source": [
    "dx = df.dropna().groupby([\"agegrp\", \"Sex1\"])[\"RestBP\"].value_counts().unstack()\n",
    "print(dx)"
   ]
  },
  {
   "cell_type": "code",
   "execution_count": 84,
   "id": "7d1b90e5",
   "metadata": {},
   "outputs": [],
   "source": [
    "# in the dataframe, drop the NA's, group it by Age group and Gender. Provide the highest in the series, and unstack them to readily show which ages are affected."
   ]
  },
  {
   "cell_type": "code",
   "execution_count": 85,
   "id": "1218aab0",
   "metadata": {},
   "outputs": [],
   "source": [
    "# Question 5 - Part A here:"
   ]
  },
  {
   "cell_type": "code",
   "execution_count": 86,
   "id": "a8b8fbb8",
   "metadata": {},
   "outputs": [
    {
     "data": {
      "text/plain": [
       "<AxesSubplot:xlabel='agegrp', ylabel='Chol'>"
      ]
     },
     "execution_count": 86,
     "metadata": {},
     "output_type": "execute_result"
    },
    {
     "data": {
      "image/png": "[encoded data removed]",
      "text/plain": [
       "<Figure size 640x480 with 1 Axes>"
      ]
     },
     "metadata": {},
     "output_type": "display_data"
    }
   ],
   "source": [
    "df[\"agegrp\"]=pd.cut(df.Age, [29,40,50,60,70,80])\n",
    "plt.figure.Figure(figsize=(12,5))\n",
    "sns.boxplot(x = \"agegrp\", y = \"Chol\", data=df)"
   ]
  },
  {
   "cell_type": "code",
   "execution_count": 90,
   "id": "3e80799a",
   "metadata": {},
   "outputs": [],
   "source": [
    "# Questions for you to answer:\n",
    "\n",
    "# Looking at the code that was used to create the box plot, \n",
    "#   explain what the following code means in your own words:\n",
    "\n",
    "# 1. pandas.cut():  <- Cut the dataframe on the Age column, apply to \"Agegrp\"\n",
    "\n",
    "# 2. Looking at the cut() method signature, what is a \"bin\": <- I have no idea. I see no \"bin\" here. I assume it means category\n",
    "\n",
    "# 3. plt.figure(): <- Plot the figure -- however, one must add figure.Figure (with capital F) to make it compute/plot.\n",
    "\n",
    "# 3 A - in the code above, what do the numbers in figsize mean?  What happens if you change them? <-Size of graph/chart\n",
    "\n",
    "# 4. sns.boxplot(x = ??, y = ??, data= ??): <-x is the Horizontal axis, y is the vertical axis, and data is the information it is taken from (dataframe)"
   ]
  },
  {
   "cell_type": "code",
   "execution_count": 91,
   "id": "66fdb2f2",
   "metadata": {
    "scrolled": true
   },
   "outputs": [
    {
     "data": {
      "text/plain": [
       "<AxesSubplot:xlabel='Sex1', ylabel='Chol'>"
      ]
     },
     "execution_count": 91,
     "metadata": {},
     "output_type": "execute_result"
    },
    {
     "data": {
      "image/png": "[encoded data removed]",
      "text/plain": [
       "<Figure size 640x480 with 1 Axes>"
      ]
     },
     "metadata": {},
     "output_type": "display_data"
    }
   ],
   "source": [
    "sns.boxplot(x = \"Sex1\", y = \"Chol\", data=df)"
   ]
  },
  {
   "cell_type": "code",
   "execution_count": 92,
   "id": "d5a56434",
   "metadata": {},
   "outputs": [],
   "source": [
    "# Why did the author run this: df[\"Sex1\"] = df.Sex.replace({1: \"Male\", 0: \"Female\"}) <- I do not know.\n",
    "\n",
    "# What does that line mean, in your own words:\n",
    "#To better maximize the data on the age group that was in the dataset.\n",
    "\n",
    "# There is a new argument in the boxplot function.  Look up what \"hue\" means.  <--Hue is the COLOR of the displayed box."
   ]
  },
  {
   "cell_type": "code",
   "execution_count": 93,
   "id": "f6145216",
   "metadata": {},
   "outputs": [
    {
     "data": {
      "text/plain": [
       "<AxesSubplot:xlabel='Sex1', ylabel='Age'>"
      ]
     },
     "execution_count": 93,
     "metadata": {},
     "output_type": "execute_result"
    },
    {
     "data": {
      "image/png": "[encoded data removed]",
      "text/plain": [
       "<Figure size 640x480 with 1 Axes>"
      ]
     },
     "metadata": {},
     "output_type": "display_data"
    }
   ],
   "source": [
    "sns.boxplot(x = \"Sex1\", y = \"Age\", data=df)"
   ]
  },
  {
   "cell_type": "code",
   "execution_count": 94,
   "id": "8de0229a",
   "metadata": {},
   "outputs": [],
   "source": [
    "# How does the sns.boxplot(x = \"Sex1\", y = \"Age\", data=df) differ from the one in the cell above? <-this only compares the ages of the men and women.\n",
    "\n",
    "# What information does this provide you? <-This does not provide any information other than gender and age range. No other comparisons are made."
   ]
  },
  {
   "cell_type": "code",
   "execution_count": 99,
   "id": "8394be2a",
   "metadata": {},
   "outputs": [],
   "source": [
    "# Question 6 --"
   ]
  },
  {
   "cell_type": "code",
   "execution_count": 100,
   "id": "07c51fe6",
   "metadata": {},
   "outputs": [
    {
     "data": {
      "text/html": [
       "<div>\n",
       "<style scoped>\n",
       "    .dataframe tbody tr th:only-of-type {\n",
       "        vertical-align: middle;\n",
       "    }\n",
       "\n",
       "    .dataframe tbody tr th {\n",
       "        vertical-align: top;\n",
       "    }\n",
       "\n",
       "    .dataframe thead th {\n",
       "        text-align: right;\n",
       "    }\n",
       "</style>\n",
       "<table border=\"1\" class=\"dataframe\">\n",
       "  <thead>\n",
       "    <tr style=\"text-align: right;\">\n",
       "      <th>ChestPain</th>\n",
       "      <th>asymptomatic</th>\n",
       "      <th>nonanginal</th>\n",
       "      <th>nontypical</th>\n",
       "      <th>typical</th>\n",
       "    </tr>\n",
       "    <tr>\n",
       "      <th>agegrp</th>\n",
       "      <th></th>\n",
       "      <th></th>\n",
       "      <th></th>\n",
       "      <th></th>\n",
       "    </tr>\n",
       "  </thead>\n",
       "  <tbody>\n",
       "    <tr>\n",
       "      <th>(29, 40]</th>\n",
       "      <td>6.0</td>\n",
       "      <td>2.0</td>\n",
       "      <td>6.0</td>\n",
       "      <td>3.0</td>\n",
       "    </tr>\n",
       "    <tr>\n",
       "      <th>(40, 50]</th>\n",
       "      <td>29.0</td>\n",
       "      <td>20.0</td>\n",
       "      <td>25.0</td>\n",
       "      <td>2.0</td>\n",
       "    </tr>\n",
       "    <tr>\n",
       "      <th>(50, 60]</th>\n",
       "      <td>65.0</td>\n",
       "      <td>20.0</td>\n",
       "      <td>34.0</td>\n",
       "      <td>10.0</td>\n",
       "    </tr>\n",
       "    <tr>\n",
       "      <th>(60, 70]</th>\n",
       "      <td>41.0</td>\n",
       "      <td>5.0</td>\n",
       "      <td>19.0</td>\n",
       "      <td>8.0</td>\n",
       "    </tr>\n",
       "    <tr>\n",
       "      <th>(70, 80]</th>\n",
       "      <td>2.0</td>\n",
       "      <td>2.0</td>\n",
       "      <td>2.0</td>\n",
       "      <td>NaN</td>\n",
       "    </tr>\n",
       "  </tbody>\n",
       "</table>\n",
       "</div>"
      ],
      "text/plain": [
       "ChestPain  asymptomatic  nonanginal  nontypical  typical\n",
       "agegrp                                                  \n",
       "(29, 40]            6.0         2.0         6.0      3.0\n",
       "(40, 50]           29.0        20.0        25.0      2.0\n",
       "(50, 60]           65.0        20.0        34.0     10.0\n",
       "(60, 70]           41.0         5.0        19.0      8.0\n",
       "(70, 80]            2.0         2.0         2.0      NaN"
      ]
     },
     "execution_count": 100,
     "metadata": {},
     "output_type": "execute_result"
    }
   ],
   "source": [
    "df.groupby(\"agegrp\")[\"ChestPain\"].value_counts().unstack()"
   ]
  },
  {
   "cell_type": "code",
   "execution_count": 101,
   "id": "6b3dd335",
   "metadata": {},
   "outputs": [
    {
     "data": {
      "text/plain": [
       "agegrp    ChestPain   \n",
       "(29, 40]  asymptomatic     6\n",
       "          nontypical       6\n",
       "          typical          3\n",
       "          nonanginal       2\n",
       "(40, 50]  asymptomatic    29\n",
       "          nontypical      25\n",
       "          nonanginal      20\n",
       "          typical          2\n",
       "(50, 60]  asymptomatic    65\n",
       "          nontypical      34\n",
       "          nonanginal      20\n",
       "          typical         10\n",
       "(60, 70]  asymptomatic    41\n",
       "          nontypical      19\n",
       "          typical          8\n",
       "          nonanginal       5\n",
       "(70, 80]  asymptomatic     2\n",
       "          nonanginal       2\n",
       "          nontypical       2\n",
       "Name: ChestPain, dtype: int64"
      ]
     },
     "execution_count": 101,
     "metadata": {},
     "output_type": "execute_result"
    }
   ],
   "source": [
    "df.groupby(\"agegrp\")[\"ChestPain\"].value_counts()"
   ]
  },
  {
   "cell_type": "code",
   "execution_count": 102,
   "id": "3041cd1a",
   "metadata": {},
   "outputs": [],
   "source": [
    "# Question:  \n",
    "# 1. How does the output vary between these two lines?  <-- It does not differentiate between gender,just total counts for each category of asymptomatic, nonanginal, nontypical, and typical."
   ]
  },
  {
   "cell_type": "code",
   "execution_count": 103,
   "id": "f3ba8e33",
   "metadata": {},
   "outputs": [],
   "source": [
    "# Question 7 --"
   ]
  },
  {
   "cell_type": "code",
   "execution_count": 104,
   "id": "bf94dc67",
   "metadata": {},
   "outputs": [
    {
     "name": "stdout",
     "output_type": "stream",
     "text": [
      "ChestPain        asymptomatic  nonanginal  nontypical  typical\n",
      "agegrp   Sex                                                  \n",
      "(29, 40] Female           1.0         1.0         3.0      NaN\n",
      "         Male             5.0         1.0         3.0      3.0\n",
      "(40, 50] Female           6.0         8.0         8.0      NaN\n",
      "         Male            23.0        12.0        17.0      2.0\n",
      "(50, 60] Female          15.0         6.0        12.0      2.0\n",
      "         Male            50.0        14.0        22.0      8.0\n",
      "(60, 70] Female          16.0         1.0        10.0      2.0\n",
      "         Male            25.0         4.0         9.0      6.0\n",
      "(70, 80] Female           1.0         2.0         2.0      NaN\n",
      "         Male             1.0         NaN         NaN      NaN\n"
     ]
    }
   ],
   "source": [
    "dx = df.dropna().groupby([\"agegrp\", \"Sex\"])[\"ChestPain\"].value_counts().unstack()\n",
    "print(dx)"
   ]
  },
  {
   "cell_type": "code",
   "execution_count": 105,
   "id": "46b6de3d",
   "metadata": {},
   "outputs": [],
   "source": [
    "# Question 8 --"
   ]
  },
  {
   "cell_type": "code",
   "execution_count": 106,
   "id": "9cb35ed2",
   "metadata": {},
   "outputs": [
    {
     "name": "stdout",
     "output_type": "stream",
     "text": [
      "ChestPain        asymptomatic  nonanginal  nontypical   typical\n",
      "agegrp   Sex                                                   \n",
      "(29, 40] Female      0.200000    0.200000    0.600000       NaN\n",
      "         Male        0.416667    0.083333    0.250000  0.250000\n",
      "(40, 50] Female      0.272727    0.363636    0.363636       NaN\n",
      "         Male        0.425926    0.222222    0.314815  0.037037\n",
      "(50, 60] Female      0.428571    0.171429    0.342857  0.057143\n",
      "         Male        0.531915    0.148936    0.234043  0.085106\n",
      "(60, 70] Female      0.551724    0.034483    0.344828  0.068966\n",
      "         Male        0.568182    0.090909    0.204545  0.136364\n",
      "(70, 80] Female      0.200000    0.400000    0.400000       NaN\n",
      "         Male        1.000000         NaN         NaN       NaN\n"
     ]
    }
   ],
   "source": [
    "dx = dx.apply(lambda x: x/x.sum(), axis=1)\n",
    "print(dx)"
   ]
  },
  {
   "cell_type": "code",
   "execution_count": 107,
   "id": "57a8d02c",
   "metadata": {},
   "outputs": [],
   "source": [
    "# Questions: In your own words:\n",
    "\n",
    "# 1. What does the apply() function do? <-- Allows pandas to apply a function to every single value in a series.\n",
    "\n",
    "\n",
    "# 2. What is lambda? <-- is a small, anonymous function. Can apply multiple arguements, but only one expression."
   ]
  },
  {
   "cell_type": "code",
   "execution_count": null,
   "id": "afc9f854",
   "metadata": {},
   "outputs": [],
   "source": []
  }
 ],
 "metadata": {
  "kernelspec": {
   "display_name": "Python 3 (ipykernel)",
   "language": "python",
   "name": "python3"
  },
  "language_info": {
   "codemirror_mode": {
    "name": "ipython",
    "version": 3
   },
   "file_extension": ".py",
   "mimetype": "text/x-python",
   "name": "python",
   "nbconvert_exporter": "python",
   "pygments_lexer": "ipython3",
   "version": "3.9.13"
  }
 },
 "nbformat": 4,
 "nbformat_minor": 5
}
